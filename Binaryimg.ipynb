{
 "cells": [
  {
   "cell_type": "code",
   "execution_count": 17,
   "metadata": {},
   "outputs": [],
   "source": [
    "import cv2\n",
    "import numpy as np\n",
    "import matplotlib.pyplot as plt\n",
    "\n",
    "bw = cv2.imread('Image3.jpeg',0)\n",
    "cv2.imshow('bwimage',bw)"
   ]
  },
  {
   "cell_type": "code",
   "execution_count": 18,
   "metadata": {},
   "outputs": [],
   "source": [
    "h,w = bw.shape[0:2]\n",
    "\n",
    "binary = np.zeros([h,w,1],'uint8')\n",
    "thresh = 70\n",
    "\n",
    "for r in range(0,h):\n",
    "    for c in range(0,w):\n",
    "        binary[r][c]= 255 if bw[r][c] > thresh else 0\n",
    "        \n",
    "cv2.imshow('binaryre',binary)\n",
    "\n",
    "ret,f =cv2.threshold(bw,45,255,cv2.THRESH_BINARY)\n",
    "cv2.imshow('naya',f)\n"
   ]
  },
  {
   "cell_type": "code",
   "execution_count": 19,
   "metadata": {},
   "outputs": [],
   "source": [
    "adpt_thres=cv2.adaptiveThreshold(bw,255,cv2.ADAPTIVE_THRESH_GAUSSIAN_C,cv2.THRESH_BINARY,115,1)\n",
    "cv2.imshow('sabse naya',adpt_thres)"
   ]
  },
  {
   "cell_type": "code",
   "execution_count": 20,
   "metadata": {},
   "outputs": [],
   "source": [
    "cv2.waitKey(0)\n",
    "cv2.destroyAllWindows()"
   ]
  }
 ],
 "metadata": {
  "kernelspec": {
   "display_name": "Python 3",
   "language": "python",
   "name": "python3"
  },
  "language_info": {
   "codemirror_mode": {
    "name": "ipython",
    "version": 3
   },
   "file_extension": ".py",
   "mimetype": "text/x-python",
   "name": "python",
   "nbconvert_exporter": "python",
   "pygments_lexer": "ipython3",
   "version": "3.5.2"
  }
 },
 "nbformat": 4,
 "nbformat_minor": 2
}
