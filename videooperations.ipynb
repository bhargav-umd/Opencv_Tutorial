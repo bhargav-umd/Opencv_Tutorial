{
 "cells": [
  {
   "cell_type": "code",
   "execution_count": 29,
   "metadata": {},
   "outputs": [],
   "source": [
    "import cv2\n",
    "import numpy as np\n",
    "import matplotlib.pyplot as plt"
   ]
  },
  {
   "cell_type": "code",
   "execution_count": 30,
   "metadata": {},
   "outputs": [],
   "source": [
    "#cap =cv2.VideoCapture('challenge_video.mp4')\n",
    "cap =cv2.VideoCapture(0)\n",
    "\n",
    "color = (255,0,0)\n",
    "linewidth = 2\n",
    "point = (0,0)\n",
    "radius = 30\n",
    "\n",
    "\n",
    "\n"
   ]
  },
  {
   "cell_type": "code",
   "execution_count": 31,
   "metadata": {},
   "outputs": [],
   "source": [
    "def click(event,x,y,flags,param):\n",
    "    global point,pressed\n",
    "    \n",
    "    if event ==cv2.EVENT_LBUTTONDOWN:\n",
    "        print(\"pressed\",x,y)\n",
    "        point =(x,y)\n",
    "cv2.namedWindow(\"awesomeness with circle\")\n",
    "cv2.setMouseCallback(\"awesomeness with circle\",click)"
   ]
  },
  {
   "cell_type": "code",
   "execution_count": 32,
   "metadata": {},
   "outputs": [
    {
     "name": "stdout",
     "output_type": "stream",
     "text": [
      "pressed 200 86\n",
      "pressed 280 86\n",
      "pressed 188 167\n",
      "pressed 242 73\n",
      "pressed 238 65\n",
      "pressed 93 38\n",
      "pressed 93 38\n",
      "pressed 93 38\n",
      "pressed 103 118\n",
      "pressed 113 182\n",
      "pressed 126 125\n",
      "pressed 122 125\n",
      "pressed 295 11\n",
      "pressed 261 104\n",
      "pressed 192 131\n",
      "pressed 74 55\n",
      "pressed 151 85\n"
     ]
    }
   ],
   "source": [
    "\n",
    "while(cap.isOpened()):\n",
    "    ch = cv2.waitKey(1)\n",
    "    ret , frame = cap.read()\n",
    "    frame = cv2.resize(frame, (0,0),fx=0.5,fy=0.5)\n",
    "\n",
    "    cv2.circle(frame,point,radius,color,linewidth)\n",
    "    #gray_image = cv2.cvtColor(frame,cv2.COLOR_RGB2GRAY)\n",
    "    cv2.imshow(\"awesomeness with circle\",frame)\n",
    "    \n",
    "    if ch & 0xFF ==ord('q'):\n",
    "        break\n",
    "    \n",
    "cap.release()\n",
    "cv2.destroyAllWindows()\n"
   ]
  }
 ],
 "metadata": {
  "kernelspec": {
   "display_name": "Python 3",
   "language": "python",
   "name": "python3"
  },
  "language_info": {
   "codemirror_mode": {
    "name": "ipython",
    "version": 3
   },
   "file_extension": ".py",
   "mimetype": "text/x-python",
   "name": "python",
   "nbconvert_exporter": "python",
   "pygments_lexer": "ipython3",
   "version": "3.5.2"
  }
 },
 "nbformat": 4,
 "nbformat_minor": 2
}
